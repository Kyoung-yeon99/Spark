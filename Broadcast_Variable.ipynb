{
  "nbformat": 4,
  "nbformat_minor": 0,
  "metadata": {
    "colab": {
      "provenance": [],
      "authorship_tag": "ABX9TyPPrCt5YH9MFZVcYW2SWVdg",
      "include_colab_link": true
    },
    "kernelspec": {
      "name": "python3",
      "display_name": "Python 3"
    },
    "language_info": {
      "name": "python"
    }
  },
  "cells": [
    {
      "cell_type": "markdown",
      "metadata": {
        "id": "view-in-github",
        "colab_type": "text"
      },
      "source": [
        "<a href=\"https://colab.research.google.com/github/Kyoung-yeon99/Spark/blob/main/Broadcast_Variable.ipynb\" target=\"_parent\"><img src=\"https://colab.research.google.com/assets/colab-badge.svg\" alt=\"Open In Colab\"/></a>"
      ]
    },
    {
      "cell_type": "code",
      "execution_count": null,
      "metadata": {
        "colab": {
          "base_uri": "https://localhost:8080/"
        },
        "id": "L0LdCC0Ch7MA",
        "outputId": "50479266-8dcd-4315-f349-38f98c3b6ad9"
      },
      "outputs": [
        {
          "output_type": "stream",
          "name": "stdout",
          "text": [
            "Collecting pyspark==3.3.1\n",
            "  Downloading pyspark-3.3.1.tar.gz (281.4 MB)\n",
            "\u001b[2K     \u001b[90m━━━━━━━━━━━━━━━━━━━━━━━━━━━━━━━━━━━━━━━━\u001b[0m \u001b[32m281.4/281.4 MB\u001b[0m \u001b[31m4.4 MB/s\u001b[0m eta \u001b[36m0:00:00\u001b[0m\n",
            "\u001b[?25h  Preparing metadata (setup.py) ... \u001b[?25l\u001b[?25hdone\n",
            "Collecting py4j==0.10.9.5\n",
            "  Downloading py4j-0.10.9.5-py2.py3-none-any.whl (199 kB)\n",
            "\u001b[2K     \u001b[90m━━━━━━━━━━━━━━━━━━━━━━━━━━━━━━━━━━━━━━━━\u001b[0m \u001b[32m199.7/199.7 kB\u001b[0m \u001b[31m14.2 MB/s\u001b[0m eta \u001b[36m0:00:00\u001b[0m\n",
            "\u001b[?25hBuilding wheels for collected packages: pyspark\n",
            "  Building wheel for pyspark (setup.py) ... \u001b[?25l\u001b[?25hdone\n",
            "  Created wheel for pyspark: filename=pyspark-3.3.1-py2.py3-none-any.whl size=281845493 sha256=2d0a65cb0b0daf25aea8ff186d287d3ccbee565b56d25c0f010380708fe0191c\n",
            "  Stored in directory: /root/.cache/pip/wheels/0f/f0/3d/517368b8ce80486e84f89f214e0a022554e4ee64969f46279b\n",
            "Successfully built pyspark\n",
            "Installing collected packages: py4j, pyspark\n",
            "  Attempting uninstall: py4j\n",
            "    Found existing installation: py4j 0.10.9.7\n",
            "    Uninstalling py4j-0.10.9.7:\n",
            "      Successfully uninstalled py4j-0.10.9.7\n",
            "Successfully installed py4j-0.10.9.5 pyspark-3.3.1\n"
          ]
        }
      ],
      "source": [
        "!pip install pyspark==3.3.1 py4j==0.10.9.5"
      ]
    },
    {
      "cell_type": "code",
      "source": [
        "!wget https://s3-geospatial.s3-us-west-2.amazonaws.com/Marvel_names.txt"
      ],
      "metadata": {
        "colab": {
          "base_uri": "https://localhost:8080/"
        },
        "id": "_U6iL9Oqihyd",
        "outputId": "c877972b-2b3d-402b-ca60-af345a915a68"
      },
      "execution_count": null,
      "outputs": [
        {
          "output_type": "stream",
          "name": "stdout",
          "text": [
            "--2024-07-10 07:30:16--  https://s3-geospatial.s3-us-west-2.amazonaws.com/Marvel_names.txt\n",
            "Resolving s3-geospatial.s3-us-west-2.amazonaws.com (s3-geospatial.s3-us-west-2.amazonaws.com)... 3.5.83.199, 52.92.138.90, 3.5.79.119, ...\n",
            "Connecting to s3-geospatial.s3-us-west-2.amazonaws.com (s3-geospatial.s3-us-west-2.amazonaws.com)|3.5.83.199|:443... connected.\n",
            "HTTP request sent, awaiting response... 200 OK\n",
            "Length: 351848 (344K) [text/plain]\n",
            "Saving to: ‘Marvel_names.txt’\n",
            "\n",
            "Marvel_names.txt    100%[===================>] 343.60K  2.06MB/s    in 0.2s    \n",
            "\n",
            "2024-07-10 07:30:17 (2.06 MB/s) - ‘Marvel_names.txt’ saved [351848/351848]\n",
            "\n"
          ]
        }
      ]
    },
    {
      "cell_type": "code",
      "source": [
        "!head -5 Marvel_names.txt"
      ],
      "metadata": {
        "colab": {
          "base_uri": "https://localhost:8080/"
        },
        "id": "IarR0h0lihxA",
        "outputId": "00c5a6be-c49c-4991-b6ee-92ec45c3fe7e"
      },
      "execution_count": null,
      "outputs": [
        {
          "output_type": "stream",
          "name": "stdout",
          "text": [
            "1 \"24-HOUR MAN/EMMANUEL\"\r\n",
            "2 \"3-D MAN/CHARLES CHAN\"\r\n",
            "3 \"4-D MAN/MERCURIO\"\r\n",
            "4 \"8-BALL/\"\r\n",
            "5 \"A\"\r\n"
          ]
        }
      ]
    },
    {
      "cell_type": "code",
      "source": [
        "!wget https://s3-geospatial.s3-us-west-2.amazonaws.com/Marvel_graph.txt"
      ],
      "metadata": {
        "colab": {
          "base_uri": "https://localhost:8080/"
        },
        "id": "S8qOmftjihuy",
        "outputId": "cf570b5b-54c4-40a7-ec46-9383a9108276"
      },
      "execution_count": null,
      "outputs": [
        {
          "output_type": "stream",
          "name": "stdout",
          "text": [
            "--2024-07-10 07:30:23--  https://s3-geospatial.s3-us-west-2.amazonaws.com/Marvel_graph.txt\n",
            "Resolving s3-geospatial.s3-us-west-2.amazonaws.com (s3-geospatial.s3-us-west-2.amazonaws.com)... 52.92.184.154, 3.5.82.198, 52.92.137.186, ...\n",
            "Connecting to s3-geospatial.s3-us-west-2.amazonaws.com (s3-geospatial.s3-us-west-2.amazonaws.com)|52.92.184.154|:443... connected.\n",
            "HTTP request sent, awaiting response... 200 OK\n",
            "Length: 1673543 (1.6M) [text/plain]\n",
            "Saving to: ‘Marvel_graph.txt’\n",
            "\n",
            "Marvel_graph.txt    100%[===================>]   1.60M  6.20MB/s    in 0.3s    \n",
            "\n",
            "2024-07-10 07:30:24 (6.20 MB/s) - ‘Marvel_graph.txt’ saved [1673543/1673543]\n",
            "\n"
          ]
        }
      ]
    },
    {
      "cell_type": "code",
      "source": [
        "!head -5 Marvel_graph.txt"
      ],
      "metadata": {
        "colab": {
          "base_uri": "https://localhost:8080/"
        },
        "id": "tCQ1DgtRihsc",
        "outputId": "81d45172-71e3-4c5c-d6f3-c755748be187"
      },
      "execution_count": null,
      "outputs": [
        {
          "output_type": "stream",
          "name": "stdout",
          "text": [
            "5988 748 1722 3752 4655 5743 1872 3413 5527 6368 6085 4319 4728 1636 2397 3364 4001 1614 1819 1585 732 2660 3952 2507 3891 2070 2239 2602 612 1352 5447 4548 1596 5488 1605 5517 11 479 2554 2043 17 865 4292 6312 473 534 1479 6375 4456 \r\n",
            "5989 4080 4264 4446 3779 2430 2297 6169 3530 3272 4282 6432 2548 4140 185 105 3878 2429 1334 4595 2767 3956 3877 4776 4946 3407 128 269 5775 5121 481 5516 4758 4053 1044 1602 3889 1535 6038 533 3986 \r\n",
            "5982 217 595 1194 3308 2940 1815 794 1503 5197 859 5096 6039 2664 651 2244 528 284 1449 1097 1172 1092 108 3405 5204 387 4607 4545 3705 4930 1805 4712 4404 247 4754 4427 1845 536 5795 5978 533 3984 6056 \r\n",
            "5983 1165 3836 4361 1282 716 4289 4646 6300 5084 2397 4454 1913 5861 5485 \r\n",
            "5980 2731 3712 1587 6084 2472 2546 6313 875 859 323 2664 1469 522 2506 2919 2423 3624 5736 5046 1787 5776 3245 3840 2399 \r\n"
          ]
        }
      ]
    },
    {
      "cell_type": "code",
      "source": [
        "!ls -tl"
      ],
      "metadata": {
        "colab": {
          "base_uri": "https://localhost:8080/"
        },
        "id": "eGWJqfeIihpv",
        "outputId": "8f4b056c-1605-476a-9741-9d34e3978f53"
      },
      "execution_count": null,
      "outputs": [
        {
          "output_type": "stream",
          "name": "stdout",
          "text": [
            "total 1984\n",
            "drwxr-xr-x 1 root root    4096 Jul  8 19:48 sample_data\n",
            "-rw-r--r-- 1 root root 1673543 Feb  8  2023 Marvel_graph.txt\n",
            "-rw-r--r-- 1 root root  351848 Feb  8  2023 Marvel_names.txt\n"
          ]
        }
      ]
    },
    {
      "cell_type": "code",
      "source": [
        "from pyspark.sql import SparkSession\n",
        "\n",
        "spark = SparkSession.builder \\\n",
        "        .master(\"local[*]\") \\\n",
        "        .appName(\"PySpark Finding Super-hero\") \\\n",
        "        .getOrCreate()"
      ],
      "metadata": {
        "id": "xygrrnw7ihmo"
      },
      "execution_count": null,
      "outputs": []
    },
    {
      "cell_type": "code",
      "source": [
        "import pyspark.sql.functions as f\n",
        "from pyspark.sql.types import StructType, StructField, IntegerType, StringType"
      ],
      "metadata": {
        "id": "NEPXGdzLjMS8"
      },
      "execution_count": null,
      "outputs": []
    },
    {
      "cell_type": "markdown",
      "source": [
        "Marvel names schema 작성"
      ],
      "metadata": {
        "id": "GbZRhjxhjLzB"
      }
    },
    {
      "cell_type": "code",
      "source": [
        "marvel_name_schema = StructType([\n",
        "    StructField(\"id\", StringType(), True),\n",
        "    StructField(\"name\", StringType(), True)\n",
        "])"
      ],
      "metadata": {
        "id": "RffvUmWzjn5e"
      },
      "execution_count": null,
      "outputs": []
    },
    {
      "cell_type": "code",
      "source": [
        "names = spark.read.schema(marvel_name_schema).option(\"sep\",  \" \").csv(\"Marvel_names.txt\")"
      ],
      "metadata": {
        "id": "ZqUZNo2ojn33"
      },
      "execution_count": null,
      "outputs": []
    },
    {
      "cell_type": "code",
      "source": [
        "names.show()"
      ],
      "metadata": {
        "colab": {
          "base_uri": "https://localhost:8080/"
        },
        "id": "TAgO_ZQdjn2P",
        "outputId": "3fd732a2-1e67-4407-b4ee-6357d6ca9984"
      },
      "execution_count": null,
      "outputs": [
        {
          "output_type": "stream",
          "name": "stdout",
          "text": [
            "+---+--------------------+\n",
            "| id|                name|\n",
            "+---+--------------------+\n",
            "|  1|24-HOUR MAN/EMMANUEL|\n",
            "|  2|3-D MAN/CHARLES CHAN|\n",
            "|  3|    4-D MAN/MERCURIO|\n",
            "|  4|             8-BALL/|\n",
            "|  5|                   A|\n",
            "|  6|               A'YIN|\n",
            "|  7|        ABBOTT, JACK|\n",
            "|  8|             ABCISSA|\n",
            "|  9|                ABEL|\n",
            "| 10|ABOMINATION/EMIL BLO|\n",
            "| 11|ABOMINATION | MUTANT|\n",
            "| 12|         ABOMINATRIX|\n",
            "| 13|             ABRAXAS|\n",
            "| 14|          ADAM 3,031|\n",
            "| 15|             ABSALOM|\n",
            "| 16|ABSORBING MAN/CARL C|\n",
            "| 17|ABSORBING MAN | MUTA|\n",
            "| 18|                ACBA|\n",
            "| 19|ACHEBE, REVEREND DOC|\n",
            "| 20|            ACHILLES|\n",
            "+---+--------------------+\n",
            "only showing top 20 rows\n",
            "\n"
          ]
        }
      ]
    },
    {
      "cell_type": "code",
      "source": [
        "lines = spark.read.text(\"Marvel_graph.txt\")"
      ],
      "metadata": {
        "id": "PyWj717Wjn0I"
      },
      "execution_count": null,
      "outputs": []
    },
    {
      "cell_type": "code",
      "source": [
        "lines.show(5)"
      ],
      "metadata": {
        "colab": {
          "base_uri": "https://localhost:8080/"
        },
        "id": "eu0oOG6wjnyE",
        "outputId": "cfdb295c-fde2-4309-ebcb-ac386d48c3aa"
      },
      "execution_count": null,
      "outputs": [
        {
          "output_type": "stream",
          "name": "stdout",
          "text": [
            "+--------------------+\n",
            "|               value|\n",
            "+--------------------+\n",
            "|5988 748 1722 375...|\n",
            "|5989 4080 4264 44...|\n",
            "|5982 217 595 1194...|\n",
            "|5983 1165 3836 43...|\n",
            "|5980 2731 3712 15...|\n",
            "+--------------------+\n",
            "only showing top 5 rows\n",
            "\n"
          ]
        }
      ]
    },
    {
      "cell_type": "markdown",
      "source": [
        "lines의 스키마에서 value 필드를 super hero ID(\"id\")와 카운트(\"connections\")로 변경 <br>\n",
        "\n",
        "공백으로 split해서 처음 값이 super hero 이고 뒤의 값의 총 수가 connnections\n",
        "\n"
      ],
      "metadata": {
        "id": "MHXnV0NGkfWZ"
      }
    },
    {
      "cell_type": "code",
      "source": [
        "id_connections = lines.withColumn(\"id\", f.split(f.trim(f.col(\"value\")), \" \")[0]) \\\n",
        "                .withColumn(\"connections\", f.size(f.split(f.trim(f.col(\"value\")), \" \")) - 1)"
      ],
      "metadata": {
        "id": "_-ZV_xM3k_Oq"
      },
      "execution_count": null,
      "outputs": []
    },
    {
      "cell_type": "code",
      "source": [
        "id_connections.select(\"id\", \"connections\").show(5)"
      ],
      "metadata": {
        "colab": {
          "base_uri": "https://localhost:8080/"
        },
        "id": "Q6toVBA9k_Mr",
        "outputId": "aa40ae50-7969-4e68-9308-0d435fe26627"
      },
      "execution_count": null,
      "outputs": [
        {
          "output_type": "stream",
          "name": "stdout",
          "text": [
            "+----+-----------+\n",
            "|  id|connections|\n",
            "+----+-----------+\n",
            "|5988|         48|\n",
            "|5989|         40|\n",
            "|5982|         42|\n",
            "|5983|         14|\n",
            "|5980|         24|\n",
            "+----+-----------+\n",
            "only showing top 5 rows\n",
            "\n"
          ]
        }
      ]
    },
    {
      "cell_type": "code",
      "source": [
        "connections = id_connections.groupBy(\"id\").agg(f.sum(\"connections\").alias(\"connections\"))"
      ],
      "metadata": {
        "id": "cyckqq5Hk_K6"
      },
      "execution_count": null,
      "outputs": []
    },
    {
      "cell_type": "code",
      "source": [
        "connections.show()"
      ],
      "metadata": {
        "colab": {
          "base_uri": "https://localhost:8080/"
        },
        "id": "Sk0nVdRgk_I0",
        "outputId": "f0c57728-66b3-48b1-9d5a-4bfaa25b825e"
      },
      "execution_count": null,
      "outputs": [
        {
          "output_type": "stream",
          "name": "stdout",
          "text": [
            "+----+-----------+\n",
            "|  id|connections|\n",
            "+----+-----------+\n",
            "| 691|          6|\n",
            "|1159|         11|\n",
            "|3959|        142|\n",
            "|1572|         35|\n",
            "|2294|         14|\n",
            "|1090|          4|\n",
            "|3606|        171|\n",
            "|3414|          7|\n",
            "| 296|         17|\n",
            "|4821|         16|\n",
            "|2162|         41|\n",
            "|1436|          9|\n",
            "|1512|         11|\n",
            "|6194|         14|\n",
            "|6240|         11|\n",
            "| 829|         37|\n",
            "|2136|          6|\n",
            "|5645|         20|\n",
            "|2069|        263|\n",
            "| 467|          0|\n",
            "+----+-----------+\n",
            "only showing top 20 rows\n",
            "\n"
          ]
        }
      ]
    },
    {
      "cell_type": "markdown",
      "source": [
        "UDF를 사용해서 Hero ID 룩업 구현하기"
      ],
      "metadata": {
        "id": "dNndt2Lwk-tM"
      }
    },
    {
      "cell_type": "code",
      "source": [
        "def returnName(id: str) -> str:\n",
        "  # return id2Names.get(id) -- closure에서 룩업, 퍼포먼스 not good\n",
        "  return broadcast_id2Names.value.get(id) # Broadcast Variable"
      ],
      "metadata": {
        "id": "1kA2CTEck_Dc"
      },
      "execution_count": null,
      "outputs": []
    },
    {
      "cell_type": "code",
      "source": [
        "# names 데이터프레임을 딕셔너리로\n",
        "id2Names = names.rdd.collectAsMap()"
      ],
      "metadata": {
        "id": "l7rj_E5Gmcta"
      },
      "execution_count": null,
      "outputs": []
    },
    {
      "cell_type": "code",
      "source": [
        "len(id2Names)"
      ],
      "metadata": {
        "colab": {
          "base_uri": "https://localhost:8080/"
        },
        "id": "mN7n8Dyymcre",
        "outputId": "233970c6-de6e-464c-b4b6-b997ca2e22cd"
      },
      "execution_count": null,
      "outputs": [
        {
          "output_type": "execute_result",
          "data": {
            "text/plain": [
              "19428"
            ]
          },
          "metadata": {},
          "execution_count": 22
        }
      ]
    },
    {
      "cell_type": "code",
      "source": [
        "for idx, id in enumerate(id2Names):\n",
        "    if idx >= 10:\n",
        "      break\n",
        "    print(id, id2Names[id])"
      ],
      "metadata": {
        "colab": {
          "base_uri": "https://localhost:8080/"
        },
        "id": "AAUCzXxZmcpq",
        "outputId": "2321677a-411e-4ff5-c428-e1a6e3f8deef"
      },
      "execution_count": null,
      "outputs": [
        {
          "output_type": "stream",
          "name": "stdout",
          "text": [
            "1 24-HOUR MAN/EMMANUEL\n",
            "2 3-D MAN/CHARLES CHAN\n",
            "3 4-D MAN/MERCURIO\n",
            "4 8-BALL/\n",
            "5 A\n",
            "6 A'YIN\n",
            "7 ABBOTT, JACK\n",
            "8 ABCISSA\n",
            "9 ABEL\n",
            "10 ABOMINATION/EMIL BLO\n"
          ]
        }
      ]
    },
    {
      "cell_type": "code",
      "source": [
        "broadcast_id2Names = spark.sparkContext.broadcast(id2Names)"
      ],
      "metadata": {
        "id": "ADIfMVSNmcdx"
      },
      "execution_count": null,
      "outputs": []
    },
    {
      "cell_type": "code",
      "source": [
        "broadcast_id2Names.value.get('859')"
      ],
      "metadata": {
        "colab": {
          "base_uri": "https://localhost:8080/",
          "height": 35
        },
        "id": "OtY1F889nNOg",
        "outputId": "4c07be4f-89bd-4c7a-a0b8-ca33c7a60f18"
      },
      "execution_count": null,
      "outputs": [
        {
          "output_type": "execute_result",
          "data": {
            "text/plain": [
              "'CAPTAIN AMERICA'"
            ],
            "application/vnd.google.colaboratory.intrinsic+json": {
              "type": "string"
            }
          },
          "metadata": {},
          "execution_count": 26
        }
      ]
    },
    {
      "cell_type": "code",
      "source": [
        "spark.udf.register(\"returnName\", returnName, StringType())"
      ],
      "metadata": {
        "colab": {
          "base_uri": "https://localhost:8080/",
          "height": 104
        },
        "id": "P7gAZDX8nQde",
        "outputId": "bcbaa25e-5b1d-49b2-ab0d-83d69983680c"
      },
      "execution_count": null,
      "outputs": [
        {
          "output_type": "execute_result",
          "data": {
            "text/plain": [
              "<function __main__.returnName(id: str) -> str>"
            ],
            "text/html": [
              "<div style=\"max-width:800px; border: 1px solid var(--colab-border-color);\"><style>\n",
              "      pre.function-repr-contents {\n",
              "        overflow-x: auto;\n",
              "        padding: 8px 12px;\n",
              "        max-height: 500px;\n",
              "      }\n",
              "\n",
              "      pre.function-repr-contents.function-repr-contents-collapsed {\n",
              "        cursor: pointer;\n",
              "        max-height: 100px;\n",
              "      }\n",
              "    </style>\n",
              "    <pre style=\"white-space: initial; background:\n",
              "         var(--colab-secondary-surface-color); padding: 8px 12px;\n",
              "         border-bottom: 1px solid var(--colab-border-color);\"><b>returnName</b><br/>def returnName(id: str) -&gt; str</pre><pre class=\"function-repr-contents function-repr-contents-collapsed\" style=\"\"><a class=\"filepath\" style=\"display:none\" href=\"#\">/content/&lt;ipython-input-20-290075d1257e&gt;</a>&lt;no docstring&gt;</pre></div>"
            ]
          },
          "metadata": {},
          "execution_count": 27
        }
      ]
    },
    {
      "cell_type": "code",
      "source": [
        "id_connections.withColumn(\"name\", f.expr(\"returnName(id)\")).show()"
      ],
      "metadata": {
        "colab": {
          "base_uri": "https://localhost:8080/"
        },
        "id": "_bxVqoMWnWTh",
        "outputId": "64a1c461-f22d-44bd-d4ee-2dbaa85c5b8e"
      },
      "execution_count": null,
      "outputs": [
        {
          "output_type": "stream",
          "name": "stdout",
          "text": [
            "+--------------------+----+-----------+--------------------+\n",
            "|               value|  id|connections|                name|\n",
            "+--------------------+----+-----------+--------------------+\n",
            "|5988 748 1722 375...|5988|         48|VALKYRIE II | MUTANT|\n",
            "|5989 4080 4264 44...|5989|         40|         VALKYRIE IV|\n",
            "|5982 217 595 1194...|5982|         42|VAGABOND/PRISCILLA L|\n",
            "|5983 1165 3836 43...|5983|         14|              VAGUE/|\n",
            "|5980 2731 3712 15...|5980|         24|         UTGARD-LOKI|\n",
            "|5981 3569 5353 40...|5981|         17|              VACUUM|\n",
            "|5986 2658 3712 26...|5986|        142|             VALINOR|\n",
            "|5987 2614 5716 17...|5987|         81|              VALKIN|\n",
            "|5984 590 4898 745...|5984|         41|              VAKUME|\n",
            "|5985 3233 2254 21...|5985|         19|             VALERIA|\n",
            "|6294 4898 1127 32...|6294|         13|WOLF SPIRIT/OWAYODAT|\n",
            "|270 2658 3003 380...| 270|         42|AUGUST PERSONAGE IN |\n",
            "|271 4935 5716 430...| 271|          9|      AUNTIE FREEZE/|\n",
            "|272 2717 4363 408...| 272|         45|       AURA/ANN HERD|\n",
            "|273 1165 5013 511...| 273|         58|              AURIC/|\n",
            "|274 3920 5310 402...| 274|        410|AURORA/JEANNE-MARIE |\n",
            "|275 4366 3373 158...| 275|         47| AURORA DOPPELGANGER|\n",
            "|276 2277 5251 480...| 276|         15|AURORA | MUTANT X-VE|\n",
            "|277 1068 3495 619...| 277|         16|        AUSTIN, GEN.|\n",
            "|278 1145 667 2650...| 278|        123|       AUSTIN, SUSAN|\n",
            "+--------------------+----+-----------+--------------------+\n",
            "only showing top 20 rows\n",
            "\n"
          ]
        }
      ]
    }
  ]
}